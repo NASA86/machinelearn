{
 "cells": [
  {
   "cell_type": "code",
   "execution_count": 2,
   "id": "b3a9bfd1-28dc-4ad1-8ae9-db0f7f935edc",
   "metadata": {},
   "outputs": [],
   "source": [
    "import pickle\n",
    "ld_model=pickle.load(open('finalized_multiplelinear.sav','rb'))"
   ]
  },
  {
   "cell_type": "code",
   "execution_count": 3,
   "id": "5180c327-1d81-4826-adfc-eccf374677c8",
   "metadata": {},
   "outputs": [
    {
     "name": "stdin",
     "output_type": "stream",
     "text": [
      "rd&d: 2000\n",
      "administration: 400\n",
      "marketing: 400\n",
      "state_florida-0or1: 0\n",
      "state_newyork-0or1: 0\n"
     ]
    }
   ],
   "source": [
    "rd_input=int(input(\"rd&d:\"))\n",
    "admin_input=int(input(\"administration:\"))\n",
    "market_input=int(input(\"marketing:\"))\n",
    "st_flo=int(input(\"state_florida-0or1:\"))\n",
    "st_ney=int(input(\"state_newyork-0or1:\"))"
   ]
  },
  {
   "cell_type": "code",
   "execution_count": 4,
   "id": "db84ba19-0f01-4699-b1d2-4acfaa7ba0e9",
   "metadata": {},
   "outputs": [
    {
     "name": "stderr",
     "output_type": "stream",
     "text": [
      "C:\\anaconda3\\Lib\\site-packages\\sklearn\\base.py:493: UserWarning: X does not have valid feature names, but LinearRegression was fitted with feature names\n",
      "  warnings.warn(\n"
     ]
    }
   ],
   "source": [
    "result=ld_model.predict([[rd_input,admin_input,market_input,st_flo,st_ney]])"
   ]
  },
  {
   "cell_type": "code",
   "execution_count": 5,
   "id": "30377166-2add-4f2d-a007-31b505c77c74",
   "metadata": {},
   "outputs": [
    {
     "data": {
      "text/plain": [
       "array([[49105.05674551]])"
      ]
     },
     "execution_count": 5,
     "metadata": {},
     "output_type": "execute_result"
    }
   ],
   "source": [
    "result"
   ]
  },
  {
   "cell_type": "code",
   "execution_count": null,
   "id": "381b6368-80a2-411c-953e-ca69d4b28a4a",
   "metadata": {},
   "outputs": [],
   "source": []
  }
 ],
 "metadata": {
  "kernelspec": {
   "display_name": "Python 3 (ipykernel)",
   "language": "python",
   "name": "python3"
  },
  "language_info": {
   "codemirror_mode": {
    "name": "ipython",
    "version": 3
   },
   "file_extension": ".py",
   "mimetype": "text/x-python",
   "name": "python",
   "nbconvert_exporter": "python",
   "pygments_lexer": "ipython3",
   "version": "3.12.7"
  }
 },
 "nbformat": 4,
 "nbformat_minor": 5
}
