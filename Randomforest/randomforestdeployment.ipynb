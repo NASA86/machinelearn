{
 "cells": [
  {
   "cell_type": "code",
   "execution_count": 1,
   "id": "17a91961-1086-48f5-b370-220c65ed242c",
   "metadata": {},
   "outputs": [],
   "source": [
    "import pickle\n",
    "ld_model=pickle.load(open('finalized_randomforest.sav','rb'))"
   ]
  },
  {
   "cell_type": "code",
   "execution_count": 2,
   "id": "d79bcf80-3900-4b66-b3b6-45a2de6708dc",
   "metadata": {},
   "outputs": [
    {
     "name": "stdin",
     "output_type": "stream",
     "text": [
      "rd&d: 2000\n",
      "administration: 400\n",
      "marketing: 400\n",
      "state_florida-0or1: 0\n",
      "state_newyork-0or1: 0\n"
     ]
    }
   ],
   "source": [
    "rd_input=int(input(\"rd&d:\"))\n",
    "admin_input=int(input(\"administration:\"))\n",
    "market_input=int(input(\"marketing:\"))\n",
    "st_flo=int(input(\"state_florida-0or1:\"))\n",
    "st_ney=int(input(\"state_newyork-0or1:\"))"
   ]
  },
  {
   "cell_type": "code",
   "execution_count": 3,
   "id": "2284d035-173e-4f10-8322-1cdbf9bc12d0",
   "metadata": {},
   "outputs": [
    {
     "name": "stderr",
     "output_type": "stream",
     "text": [
      "C:\\anaconda3\\Lib\\site-packages\\sklearn\\base.py:493: UserWarning: X does not have valid feature names, but RandomForestRegressor was fitted with feature names\n",
      "  warnings.warn(\n"
     ]
    }
   ],
   "source": [
    "result=ld_model.predict([[rd_input,admin_input,market_input,st_flo,st_ney]])"
   ]
  },
  {
   "cell_type": "code",
   "execution_count": 4,
   "id": "52849515-f5ea-49ad-8462-f86a0e960f92",
   "metadata": {},
   "outputs": [
    {
     "data": {
      "text/plain": [
       "array([55822.211])"
      ]
     },
     "execution_count": 4,
     "metadata": {},
     "output_type": "execute_result"
    }
   ],
   "source": [
    "result"
   ]
  },
  {
   "cell_type": "code",
   "execution_count": null,
   "id": "efc404b5-3a07-4551-b662-12c55e51a0cc",
   "metadata": {},
   "outputs": [],
   "source": []
  }
 ],
 "metadata": {
  "kernelspec": {
   "display_name": "Python 3 (ipykernel)",
   "language": "python",
   "name": "python3"
  },
  "language_info": {
   "codemirror_mode": {
    "name": "ipython",
    "version": 3
   },
   "file_extension": ".py",
   "mimetype": "text/x-python",
   "name": "python",
   "nbconvert_exporter": "python",
   "pygments_lexer": "ipython3",
   "version": "3.12.7"
  }
 },
 "nbformat": 4,
 "nbformat_minor": 5
}
